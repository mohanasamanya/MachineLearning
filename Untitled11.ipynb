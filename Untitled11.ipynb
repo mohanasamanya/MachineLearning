{
  "nbformat": 4,
  "nbformat_minor": 0,
  "metadata": {
    "colab": {
      "provenance": [],
      "authorship_tag": "ABX9TyNhXJWqljfAdClM48pjYFQe",
      "include_colab_link": true
    },
    "kernelspec": {
      "name": "python3",
      "display_name": "Python 3"
    },
    "language_info": {
      "name": "python"
    }
  },
  "cells": [
    {
      "cell_type": "markdown",
      "metadata": {
        "id": "view-in-github",
        "colab_type": "text"
      },
      "source": [
        "<a href=\"https://colab.research.google.com/github/mohanasamanya/MachineLearning/blob/main/Untitled11.ipynb\" target=\"_parent\"><img src=\"https://colab.research.google.com/assets/colab-badge.svg\" alt=\"Open In Colab\"/></a>"
      ]
    },
    {
      "cell_type": "code",
      "source": [
        "import pandas as pd\n",
        "from sklearn.model_selection import train_test_split\n",
        "from sklearn.ensemble import RandomForestRegressor\n",
        "from sklearn.metrics import mean_squared_error\n",
        "\n",
        "# Load the data\n",
        "housing_data = pd.read_csv('/content/Melbourne_housing_FULL.csv')\n",
        "\n",
        "# Calculate missing percentage and remove columns with more than 20% missing values, except 'Price'\n",
        "missing_percentage = housing_data.isnull().mean() * 100\n",
        "columns_to_remove = [column for column in missing_percentage.index if missing_percentage[column] > 20 and column != 'Price']\n",
        "cleaned_data = housing_data.drop(columns=columns_to_remove)\n",
        "\n",
        "# Drop rows with missing 'Price' values\n",
        "cleaned_data = cleaned_data.dropna(subset=['Price'])\n",
        "\n",
        "# Select features and target\n",
        "features = cleaned_data.drop(columns=['Price', 'Date', 'Suburb', 'Type', 'Method', 'SellerG', 'CouncilArea', 'Regionname', 'Address'])\n",
        "target = cleaned_data['Price']\n",
        "\n",
        "# Select numeric features and fill missing values with the mean\n",
        "numeric_features = features.select_dtypes(include=[float, int])\n",
        "features[numeric_features.columns] = numeric_features.fillna(numeric_features.mean())\n",
        "\n",
        "# Split data into training and testing sets\n",
        "X_train, X_test, y_train, y_test = train_test_split(features, target, test_size=0.2, random_state=42)\n",
        "\n",
        "# Define the model evaluation function\n",
        "def evaluate_model(train_features, test_features, train_target, test_target):\n",
        "    model = RandomForestRegressor(random_state=42)\n",
        "    model.fit(train_features, train_target)\n",
        "    predictions = model.predict(test_features)\n",
        "    mse = mean_squared_error(test_target, predictions)\n",
        "    return mse\n",
        "\n",
        "# Evaluate the model and print the MSE\n",
        "mse_value = evaluate_model(X_train, X_test, y_train, y_test)\n",
        "print(f\"Model performance after filtering columns with 20% missing values: MSE = {mse_value:.2f}\")"
      ],
      "metadata": {
        "colab": {
          "base_uri": "https://localhost:8080/"
        },
        "id": "M9yFfm1zqtj5",
        "outputId": "2ef03d12-0d80-450d-ec00-065c6bbb95de"
      },
      "execution_count": 2,
      "outputs": [
        {
          "output_type": "stream",
          "name": "stdout",
          "text": [
            "Model performance after filtering columns with 20% missing values: MSE = 143875373039.63\n"
          ]
        }
      ]
    },
    {
      "cell_type": "code",
      "source": [
        "import pandas as pd\n",
        "from sklearn.model_selection import train_test_split\n",
        "from sklearn.feature_selection import SelectFromModel\n",
        "from sklearn.ensemble import RandomForestRegressor\n",
        "from sklearn.metrics import mean_squared_error\n",
        "\n",
        "# Load the data\n",
        "housing_data = pd.read_csv('/content/Melbourne_housing_FULL.csv')\n",
        "\n",
        "# Calculate missing percentage and remove columns with more than 20% missing values, except 'Price'\n",
        "missing_percentage = housing_data.isnull().mean() * 100\n",
        "columns_to_remove = [column for column in missing_percentage.index if missing_percentage[column] > 20 and column != 'Price']\n",
        "cleaned_data = housing_data.drop(columns=columns_to_remove)\n",
        "\n",
        "# Drop rows with missing 'Price'\n",
        "cleaned_data = cleaned_data.dropna(subset=['Price'])\n",
        "\n",
        "# Define features and target\n",
        "# Exclude 'Address' from features as it's not numerical and causes the error\n",
        "X = cleaned_data.drop(columns=['Price', 'Date', 'Suburb', 'Type', 'Method', 'SellerG', 'CouncilArea', 'Regionname', 'Address'])\n",
        "y = cleaned_data['Price']\n",
        "\n",
        "# Fill missing values in numeric columns with mean\n",
        "numeric_features = X.select_dtypes(include=[float, int])\n",
        "X[numeric_features.columns] = numeric_features.fillna(numeric_features.mean())\n",
        "\n",
        "# Split the data into training and test sets\n",
        "X_train, X_test, y_train, y_test = train_test_split(X, y, test_size=0.2, random_state=42)\n",
        "\n",
        "# Create a Random Forest Regressor model and fit it to the training data\n",
        "rf_model = RandomForestRegressor(random_state=42)\n",
        "rf_model.fit(X_train, y_train)\n",
        "\n",
        "# Use the model to select important features\n",
        "selector = SelectFromModel(rf_model, threshold='mean', prefit=True)\n",
        "X_train_selected = selector.transform(X_train)\n",
        "X_test_selected = selector.transform(X_test)\n",
        "\n",
        "# Convert the selected features back to a DataFrame\n",
        "X_train_rf_selected = pd.DataFrame(X_train_selected, columns=X.columns[selector.get_support()])\n",
        "X_test_rf_selected = pd.DataFrame(X_test_selected, columns=X.columns[selector.get_support()])\n",
        "\n",
        "# Define a function to evaluate model performance\n",
        "def evaluate_model(train_features, test_features, train_target, test_target):\n",
        "    model = RandomForestRegressor(random_state=42)\n",
        "    model.fit(train_features, train_target)\n",
        "    predictions = model.predict(test_features)\n",
        "    mse = mean_squared_error(test_target, predictions)\n",
        "    return mse\n",
        "\n",
        "# Evaluate the model after feature selection\n",
        "mse_rf_selection = evaluate_model(X_train_rf_selected, X_test_rf_selected, y_train, y_test)\n",
        "\n",
        "print(f\"Model performance after random forest feature selection: MSE = {mse_rf_selection:.2f}\")"
      ],
      "metadata": {
        "colab": {
          "base_uri": "https://localhost:8080/"
        },
        "id": "_MkuKu4fHePX",
        "outputId": "d15e0d42-df0f-4d60-afcf-6db252cfd276"
      },
      "execution_count": 7,
      "outputs": [
        {
          "output_type": "stream",
          "name": "stderr",
          "text": [
            "/usr/local/lib/python3.10/dist-packages/sklearn/base.py:486: UserWarning: X has feature names, but SelectFromModel was fitted without feature names\n",
            "  warnings.warn(\n",
            "/usr/local/lib/python3.10/dist-packages/sklearn/base.py:486: UserWarning: X has feature names, but SelectFromModel was fitted without feature names\n",
            "  warnings.warn(\n"
          ]
        },
        {
          "output_type": "stream",
          "name": "stdout",
          "text": [
            "Model performance after random forest feature selection: MSE = 147811757361.14\n"
          ]
        }
      ]
    },
    {
      "cell_type": "code",
      "source": [
        "\n",
        "\n",
        "import pandas as pd\n",
        "import numpy as np\n",
        "from sklearn.model_selection import train_test_split\n",
        "from sklearn.ensemble import RandomForestRegressor\n",
        "from sklearn.metrics import mean_squared_error\n",
        "\n",
        "# Load the dataset\n",
        "housing_data = pd.read_csv('/content/Melbourne_housing_FULL.csv')\n",
        "\n",
        "# Handle missing values\n",
        "missing_percentage = housing_data.isnull().mean() * 100\n",
        "columns_to_remove = [column for column in missing_percentage.index if missing_percentage[column] > 20 and column != 'Price']\n",
        "housing_data = housing_data.drop(columns=columns_to_remove)\n",
        "housing_data = housing_data.dropna(subset=['Price'])\n",
        "\n",
        "# Select features and target\n",
        "features = housing_data.drop(columns=['Price', 'Date', 'Suburb', 'Type', 'Method', 'SellerG', 'CouncilArea', 'Regionname', 'Address'])\n",
        "target = housing_data['Price']\n",
        "\n",
        "# Remove highly correlated features\n",
        "correlation_matrix = features.corr().abs()\n",
        "upper_triangle = correlation_matrix.where(np.triu(np.ones(correlation_matrix.shape), k=1).astype(bool))\n",
        "high_correlation_features = [column for column in upper_triangle.columns if any(upper_triangle[column] > 0.85)]\n",
        "features_filtered = features.drop(columns=high_correlation_features)\n",
        "\n",
        "# Split data into training and testing sets\n",
        "X_train, X_test, y_train, y_test = train_test_split(features_filtered, target, test_size=0.2, random_state=42)\n",
        "\n",
        "# Function to evaluate the model\n",
        "def evaluate_model(train_features, test_features, train_target, test_target):\n",
        "    model = RandomForestRegressor(random_state=42)\n",
        "    model.fit(train_features, train_target)\n",
        "    predictions = model.predict(test_features)\n",
        "    mse = mean_squared_error(test_target, predictions)\n",
        "    return mse\n",
        "\n",
        "# Evaluate the model after filtering\n",
        "mse_after_correlation_filter = evaluate_model(X_train, X_test, y_train, y_test)\n",
        "\n",
        "print(f\"Model performance after removing highly correlated features: MSE = {mse_after_correlation_filter:.2f}\")\n"
      ],
      "metadata": {
        "colab": {
          "base_uri": "https://localhost:8080/"
        },
        "id": "04Utl8P9Hnf9",
        "outputId": "b47de73f-7599-4392-f76f-8270f9d4a3bb"
      },
      "execution_count": 11,
      "outputs": [
        {
          "output_type": "stream",
          "name": "stdout",
          "text": [
            "Model performance after removing highly correlated features: MSE = 143811304257.53\n"
          ]
        }
      ]
    },
    {
      "cell_type": "code",
      "source": [
        "import pandas as pd\n",
        "from sklearn.model_selection import train_test_split\n",
        "from sklearn.ensemble import RandomForestRegressor\n",
        "from sklearn.metrics import mean_squared_error\n",
        "from sklearn.feature_selection import VarianceThreshold\n",
        "\n",
        "# Load the dataset\n",
        "housing_data = pd.read_csv('/content/Melbourne_housing_FULL.csv')\n",
        "\n",
        "# Handle missing values\n",
        "missing_percentage = housing_data.isnull().mean() * 100\n",
        "columns_to_remove = [column for column in missing_percentage.index if missing_percentage[column] > 20 and column != 'Price']\n",
        "housing_data = housing_data.drop(columns=columns_to_remove)\n",
        "housing_data = housing_data.dropna(subset=['Price'])\n",
        "\n",
        "# Select features and target\n",
        "features = housing_data.drop(columns=['Price', 'Date', 'Suburb', 'Type', 'Method', 'SellerG', 'CouncilArea', 'Regionname', 'Address'])\n",
        "target = housing_data['Price']\n",
        "\n",
        "# Remove features with low variance\n",
        "selector = VarianceThreshold(threshold=0.01)  # Adjust threshold as needed\n",
        "features_filtered = selector.fit_transform(features)\n",
        "\n",
        "# Split data into training and testing sets\n",
        "X_train, X_test, y_train, y_test = train_test_split(features_filtered, target, test_size=0.2, random_state=42)\n",
        "\n",
        "# Function to evaluate the model\n",
        "def evaluate_model(train_features, test_features, train_target, test_target):\n",
        "    model = RandomForestRegressor(random_state=42)\n",
        "    model.fit(train_features, train_target)\n",
        "    predictions = model.predict(test_features)\n",
        "    mse = mean_squared_error(test_target, predictions)\n",
        "    return mse\n",
        "\n",
        "# Evaluate the model after filtering\n",
        "mse_after_variance_filter = evaluate_model(X_train, X_test, y_train, y_test)\n",
        "\n",
        "print(f\"Model performance after removing features with low variance: MSE = {mse_after_variance_filter:.2f}\")"
      ],
      "metadata": {
        "colab": {
          "base_uri": "https://localhost:8080/"
        },
        "id": "BSc0xNVyI6r8",
        "outputId": "cf1ab1e0-9aad-4cf2-9405-e0efed6d8b72"
      },
      "execution_count": 12,
      "outputs": [
        {
          "output_type": "stream",
          "name": "stdout",
          "text": [
            "Model performance after removing features with low variance: MSE = 143811304257.53\n"
          ]
        }
      ]
    }
  ]
}