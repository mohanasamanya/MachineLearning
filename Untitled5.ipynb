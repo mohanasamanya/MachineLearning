{
  "nbformat": 4,
  "nbformat_minor": 0,
  "metadata": {
    "colab": {
      "provenance": [],
      "authorship_tag": "ABX9TyOiZFyr6Bm1P96KXgcnnP36",
      "include_colab_link": true
    },
    "kernelspec": {
      "name": "python3",
      "display_name": "Python 3"
    },
    "language_info": {
      "name": "python"
    }
  },
  "cells": [
    {
      "cell_type": "markdown",
      "metadata": {
        "id": "view-in-github",
        "colab_type": "text"
      },
      "source": [
        "<a href=\"https://colab.research.google.com/github/mohanasamanya/MachineLearning/blob/main/Untitled5.ipynb\" target=\"_parent\"><img src=\"https://colab.research.google.com/assets/colab-badge.svg\" alt=\"Open In Colab\"/></a>"
      ]
    },
    {
      "source": [
        "import numpy as np\n",
        "import pandas as pd\n",
        "df = pd.read_csv('/content/PlayTennis.csv')\n",
        "\n",
        "def Entropy(data):\n",
        "  d = data.iloc[:, -1]\n",
        "  d = d.value_counts()\n",
        "  s = 0\n",
        "  for v in d.keys():\n",
        "    p = d[v] / sum(d)\n",
        "    s -= p * np.log2(p)\n",
        "  return s\n",
        "\n",
        "def IG(data, A): # Added data as an argument\n",
        "  Es = Entropy(data)\n",
        "  val = data[A].unique() # Assigned value to val within the function scope\n",
        "  s_c = data[A].value_counts()\n",
        "  s_v = []\n",
        "\n",
        "  for v in range(len(val)):\n",
        "    ds = data[data[A] == val[v]]\n",
        "    s = 0\n",
        "    for res in data.iloc[:, -1].unique():\n",
        "      try:\n",
        "        pi = ds.iloc[:, -1].value_counts()[res] / len(ds)\n",
        "        s -= pi * np.log2(pi)\n",
        "      except KeyError:\n",
        "        s -= 0\n",
        "    s_v.append(s)\n",
        "  for i in range(len(val)):\n",
        "    Es = Es - (s_c[val[i]] * s_v[i] / sum(s_c))\n",
        "  return Es\n",
        "\n",
        "class TreeNode():\n",
        "  def __init__(self, name=None, attr=None):\n",
        "    self.name = name\n",
        "    self.attr = attr\n",
        "  def call_(self):\n",
        "    return self.name\n",
        "def DTNode(data, features_used):\n",
        "  node = TreeNode()\n",
        "  IGmax = 0\n",
        "  v_best = None\n",
        "  val_list = [v for v in data.columns[:-1] if v not in features_used]\n",
        "  if val_list != []:\n",
        "    for v in val_list:\n",
        "      if IG(data, v) > IGmax:\n",
        "        IGmax = IG(data, v)\n",
        "        v_best = v\n",
        "  if v_best:\n",
        "    features_used.append(v_best)\n",
        "    node.name = v_best\n",
        "    node.attr = data[v_best].unique()\n",
        "    return node\n",
        "  else:\n",
        "    return None\n",
        "  return None\n",
        "def DTClassifier(data, features_used):\n",
        "  root = DTNode(data, features_used)\n",
        "  DT_dict = {}\n",
        "  if root is not None:\n",
        "    item = []\n",
        "    for attr in root.attr:\n",
        "      dataN = data[data[root.name] == attr]\n",
        "      if Entropy(dataN) == 0:\n",
        "        item.append((attr, dataN.iloc[:, -1].unique()[0]))\n",
        "      else:\n",
        "        dt = DTClassifier(dataN, features_used)\n",
        "        item.append((attr, dt))\n",
        "    DT_dict[root.name] = item\n",
        "  return DT_dict\n",
        "def print_id3_tree(tree, depth=0):\n",
        "  if isinstance(tree, dict):\n",
        "    for key, value in tree.items():\n",
        "      print(f\"{'| ' * depth}{key}\")\n",
        "      if isinstance(value, list):\n",
        "        for v in value:\n",
        "          print(f\"{'| ' * (depth + 1)}{v[0]} ->\", end=\" \")\n",
        "          if isinstance(v[1], dict):\n",
        "            print()\n",
        "            print_id3_tree(v[1], depth + 2)\n",
        "          else:\n",
        "            print(f\"Decision: {v[1]}\")\n",
        "  else:\n",
        "    print(tree)\n",
        "features_used = []\n",
        "id3_decisiontree = DTClassifier(df, features_used)\n",
        "print(\"Final Decision Tree:\")\n",
        "print_id3_tree(id3_decisiontree)"
      ],
      "cell_type": "code",
      "metadata": {
        "colab": {
          "base_uri": "https://localhost:8080/"
        },
        "id": "gor-le1fh0xc",
        "outputId": "4c6a932c-f738-44e9-cea3-ce93da4561a0"
      },
      "execution_count": 21,
      "outputs": [
        {
          "output_type": "stream",
          "name": "stdout",
          "text": [
            "Final Decision Tree:\n",
            "Outlook\n",
            "| Sunny -> \n",
            "| | Humidity\n",
            "| | | High -> Decision: No\n",
            "| | | Normal -> Decision: Yes\n",
            "| Overcast -> Decision: Yes\n",
            "| Rain -> \n",
            "| | Wind\n",
            "| | | Weak -> Decision: Yes\n",
            "| | | Strong -> Decision: No\n"
          ]
        }
      ]
    },
    {
      "source": [
        "import pandas as pd\n",
        "import numpy as np\n",
        "d = pd.read_csv('/content/PlayTennis.csv')\n",
        "print(d.head())\n",
        "#using lable encoding\n",
        "from sklearn.preprocessing import LabelEncoder\n",
        "# Encode categorical features into numeric\n",
        "label_encoder = LabelEncoder()\n",
        "for column in d.columns:\n",
        "  d[column] = label_encoder.fit_transform(d[column])\n",
        "print(d.head())\n",
        "#decision treeclassifier creation\n",
        "from sklearn.tree import DecisionTreeClassifier\n",
        "from sklearn.model_selection import train_test_split\n",
        "\n",
        "# Separate features and target\n",
        "X = d.iloc[:, :-1] # Features (all columns except the last one)\n",
        "y = d.iloc[:, -1] # Target (the last column)\n",
        "\n",
        "# Split the dataset into training and testing sets\n",
        "X_train, X_test, y_train, y_test = train_test_split(X, y,\n",
        "test_size=0.2, random_state=42)\n",
        "\n",
        "# Create and train the Decision Tree Classifier\n",
        "clf = DecisionTreeClassifier(criterion='entropy') # Using 'entropy' for ID3 algorithm\n",
        "clf.fit(X_train, y_train)\n",
        "\n",
        "# Test the classifier\n",
        "accuracy = clf.score(X_test, y_test)\n",
        "print(f\"Model Accuracy: {accuracy * 100:.2f}%\")\n",
        "from sklearn.tree import export_graphviz\n",
        "import graphviz\n",
        "\n",
        "\n",
        "dot_data=export_graphviz(clf,out_file=None,feature_names=X.columns,filled=True,rounded=True,special_characters=True) # Changed 'x' to 'X' to match the variable name\n",
        "graph=graphviz.Source(dot_data)\n",
        "graph"
      ],
      "cell_type": "code",
      "metadata": {
        "colab": {
          "base_uri": "https://localhost:8080/",
          "height": 903
        },
        "id": "hqMidhk5oIBG",
        "outputId": "b715cb8c-689c-4821-df7b-b5c209e9ac27"
      },
      "execution_count": 29,
      "outputs": [
        {
          "output_type": "stream",
          "name": "stdout",
          "text": [
            "    Outlook Temperature Humidity    Wind Play Tennis\n",
            "0     Sunny         Hot     High    Weak          No\n",
            "1     Sunny         Hot     High  Strong          No\n",
            "2  Overcast         Hot     High    Weak         Yes\n",
            "3      Rain        Mild     High    Weak         Yes\n",
            "4      Rain        Cool   Normal    Weak         Yes\n",
            "   Outlook  Temperature  Humidity  Wind  Play Tennis\n",
            "0        2            1         0     1            0\n",
            "1        2            1         0     0            0\n",
            "2        0            1         0     1            1\n",
            "3        1            2         0     1            1\n",
            "4        1            0         1     1            1\n",
            "Model Accuracy: 66.67%\n"
          ]
        },
        {
          "output_type": "execute_result",
          "data": {
            "image/svg+xml": "<?xml version=\"1.0\" encoding=\"UTF-8\" standalone=\"no\"?>\n<!DOCTYPE svg PUBLIC \"-//W3C//DTD SVG 1.1//EN\"\n \"http://www.w3.org/Graphics/SVG/1.1/DTD/svg11.dtd\">\n<!-- Generated by graphviz version 2.43.0 (0)\n -->\n<!-- Title: Tree Pages: 1 -->\n<svg width=\"533pt\" height=\"477pt\"\n viewBox=\"0.00 0.00 533.00 477.00\" xmlns=\"http://www.w3.org/2000/svg\" xmlns:xlink=\"http://www.w3.org/1999/xlink\">\n<g id=\"graph0\" class=\"graph\" transform=\"scale(1 1) rotate(0) translate(4 473)\">\n<title>Tree</title>\n<polygon fill=\"white\" stroke=\"transparent\" points=\"-4,4 -4,-473 529,-473 529,4 -4,4\"/>\n<!-- 0 -->\n<g id=\"node1\" class=\"node\">\n<title>0</title>\n<path fill=\"#aad5f4\" stroke=\"black\" d=\"M230.5,-469C230.5,-469 143.5,-469 143.5,-469 137.5,-469 131.5,-463 131.5,-457 131.5,-457 131.5,-413 131.5,-413 131.5,-407 137.5,-401 143.5,-401 143.5,-401 230.5,-401 230.5,-401 236.5,-401 242.5,-407 242.5,-413 242.5,-413 242.5,-457 242.5,-457 242.5,-463 236.5,-469 230.5,-469\"/>\n<text text-anchor=\"start\" x=\"146\" y=\"-453.8\" font-family=\"Helvetica,sans-Serif\" font-size=\"14.00\">Outlook ≤ 0.5</text>\n<text text-anchor=\"start\" x=\"139.5\" y=\"-438.8\" font-family=\"Helvetica,sans-Serif\" font-size=\"14.00\">entropy = 0.946</text>\n<text text-anchor=\"start\" x=\"146\" y=\"-423.8\" font-family=\"Helvetica,sans-Serif\" font-size=\"14.00\">samples = 11</text>\n<text text-anchor=\"start\" x=\"147.5\" y=\"-408.8\" font-family=\"Helvetica,sans-Serif\" font-size=\"14.00\">value = [4, 7]</text>\n</g>\n<!-- 1 -->\n<g id=\"node2\" class=\"node\">\n<title>1</title>\n<path fill=\"#399de5\" stroke=\"black\" d=\"M166,-357.5C166,-357.5 94,-357.5 94,-357.5 88,-357.5 82,-351.5 82,-345.5 82,-345.5 82,-316.5 82,-316.5 82,-310.5 88,-304.5 94,-304.5 94,-304.5 166,-304.5 166,-304.5 172,-304.5 178,-310.5 178,-316.5 178,-316.5 178,-345.5 178,-345.5 178,-351.5 172,-357.5 166,-357.5\"/>\n<text text-anchor=\"start\" x=\"90\" y=\"-342.3\" font-family=\"Helvetica,sans-Serif\" font-size=\"14.00\">entropy = 0.0</text>\n<text text-anchor=\"start\" x=\"92.5\" y=\"-327.3\" font-family=\"Helvetica,sans-Serif\" font-size=\"14.00\">samples = 3</text>\n<text text-anchor=\"start\" x=\"90.5\" y=\"-312.3\" font-family=\"Helvetica,sans-Serif\" font-size=\"14.00\">value = [0, 3]</text>\n</g>\n<!-- 0&#45;&gt;1 -->\n<g id=\"edge1\" class=\"edge\">\n<title>0&#45;&gt;1</title>\n<path fill=\"none\" stroke=\"black\" d=\"M168.49,-400.88C162.35,-389.89 155.49,-377.62 149.29,-366.52\"/>\n<polygon fill=\"black\" stroke=\"black\" points=\"152.19,-364.54 144.26,-357.52 146.08,-367.96 152.19,-364.54\"/>\n<text text-anchor=\"middle\" x=\"137.45\" y=\"-377.88\" font-family=\"Helvetica,sans-Serif\" font-size=\"14.00\">True</text>\n</g>\n<!-- 2 -->\n<g id=\"node3\" class=\"node\">\n<title>2</title>\n<path fill=\"#ffffff\" stroke=\"black\" d=\"M280,-365C280,-365 208,-365 208,-365 202,-365 196,-359 196,-353 196,-353 196,-309 196,-309 196,-303 202,-297 208,-297 208,-297 280,-297 280,-297 286,-297 292,-303 292,-309 292,-309 292,-353 292,-353 292,-359 286,-365 280,-365\"/>\n<text text-anchor=\"start\" x=\"211\" y=\"-349.8\" font-family=\"Helvetica,sans-Serif\" font-size=\"14.00\">Wind ≤ 0.5</text>\n<text text-anchor=\"start\" x=\"204\" y=\"-334.8\" font-family=\"Helvetica,sans-Serif\" font-size=\"14.00\">entropy = 1.0</text>\n<text text-anchor=\"start\" x=\"206.5\" y=\"-319.8\" font-family=\"Helvetica,sans-Serif\" font-size=\"14.00\">samples = 8</text>\n<text text-anchor=\"start\" x=\"204.5\" y=\"-304.8\" font-family=\"Helvetica,sans-Serif\" font-size=\"14.00\">value = [4, 4]</text>\n</g>\n<!-- 0&#45;&gt;2 -->\n<g id=\"edge2\" class=\"edge\">\n<title>0&#45;&gt;2</title>\n<path fill=\"none\" stroke=\"black\" d=\"M205.51,-400.88C210.28,-392.33 215.49,-383.01 220.49,-374.07\"/>\n<polygon fill=\"black\" stroke=\"black\" points=\"223.57,-375.74 225.39,-365.3 217.46,-372.32 223.57,-375.74\"/>\n<text text-anchor=\"middle\" x=\"232.2\" y=\"-385.65\" font-family=\"Helvetica,sans-Serif\" font-size=\"14.00\">False</text>\n</g>\n<!-- 3 -->\n<g id=\"node4\" class=\"node\">\n<title>3</title>\n<path fill=\"#eeab7b\" stroke=\"black\" d=\"M219.5,-261C219.5,-261 132.5,-261 132.5,-261 126.5,-261 120.5,-255 120.5,-249 120.5,-249 120.5,-205 120.5,-205 120.5,-199 126.5,-193 132.5,-193 132.5,-193 219.5,-193 219.5,-193 225.5,-193 231.5,-199 231.5,-205 231.5,-205 231.5,-249 231.5,-249 231.5,-255 225.5,-261 219.5,-261\"/>\n<text text-anchor=\"start\" x=\"132\" y=\"-245.8\" font-family=\"Helvetica,sans-Serif\" font-size=\"14.00\">Humidity ≤ 0.5</text>\n<text text-anchor=\"start\" x=\"128.5\" y=\"-230.8\" font-family=\"Helvetica,sans-Serif\" font-size=\"14.00\">entropy = 0.811</text>\n<text text-anchor=\"start\" x=\"138.5\" y=\"-215.8\" font-family=\"Helvetica,sans-Serif\" font-size=\"14.00\">samples = 4</text>\n<text text-anchor=\"start\" x=\"136.5\" y=\"-200.8\" font-family=\"Helvetica,sans-Serif\" font-size=\"14.00\">value = [3, 1]</text>\n</g>\n<!-- 2&#45;&gt;3 -->\n<g id=\"edge3\" class=\"edge\">\n<title>2&#45;&gt;3</title>\n<path fill=\"none\" stroke=\"black\" d=\"M221.92,-296.88C216.16,-288.24 209.88,-278.82 203.86,-269.79\"/>\n<polygon fill=\"black\" stroke=\"black\" points=\"206.66,-267.68 198.2,-261.3 200.83,-271.56 206.66,-267.68\"/>\n</g>\n<!-- 8 -->\n<g id=\"node9\" class=\"node\">\n<title>8</title>\n<path fill=\"#7bbeee\" stroke=\"black\" d=\"M364.5,-261C364.5,-261 261.5,-261 261.5,-261 255.5,-261 249.5,-255 249.5,-249 249.5,-249 249.5,-205 249.5,-205 249.5,-199 255.5,-193 261.5,-193 261.5,-193 364.5,-193 364.5,-193 370.5,-193 376.5,-199 376.5,-205 376.5,-205 376.5,-249 376.5,-249 376.5,-255 370.5,-261 364.5,-261\"/>\n<text text-anchor=\"start\" x=\"257.5\" y=\"-245.8\" font-family=\"Helvetica,sans-Serif\" font-size=\"14.00\">Temperature ≤ 1.0</text>\n<text text-anchor=\"start\" x=\"265.5\" y=\"-230.8\" font-family=\"Helvetica,sans-Serif\" font-size=\"14.00\">entropy = 0.811</text>\n<text text-anchor=\"start\" x=\"275.5\" y=\"-215.8\" font-family=\"Helvetica,sans-Serif\" font-size=\"14.00\">samples = 4</text>\n<text text-anchor=\"start\" x=\"273.5\" y=\"-200.8\" font-family=\"Helvetica,sans-Serif\" font-size=\"14.00\">value = [1, 3]</text>\n</g>\n<!-- 2&#45;&gt;8 -->\n<g id=\"edge8\" class=\"edge\">\n<title>2&#45;&gt;8</title>\n<path fill=\"none\" stroke=\"black\" d=\"M266.4,-296.88C272.25,-288.24 278.62,-278.82 284.73,-269.79\"/>\n<polygon fill=\"black\" stroke=\"black\" points=\"287.77,-271.54 290.47,-261.3 281.97,-267.62 287.77,-271.54\"/>\n</g>\n<!-- 4 -->\n<g id=\"node5\" class=\"node\">\n<title>4</title>\n<path fill=\"#e58139\" stroke=\"black\" d=\"M84,-149.5C84,-149.5 12,-149.5 12,-149.5 6,-149.5 0,-143.5 0,-137.5 0,-137.5 0,-108.5 0,-108.5 0,-102.5 6,-96.5 12,-96.5 12,-96.5 84,-96.5 84,-96.5 90,-96.5 96,-102.5 96,-108.5 96,-108.5 96,-137.5 96,-137.5 96,-143.5 90,-149.5 84,-149.5\"/>\n<text text-anchor=\"start\" x=\"8\" y=\"-134.3\" font-family=\"Helvetica,sans-Serif\" font-size=\"14.00\">entropy = 0.0</text>\n<text text-anchor=\"start\" x=\"10.5\" y=\"-119.3\" font-family=\"Helvetica,sans-Serif\" font-size=\"14.00\">samples = 2</text>\n<text text-anchor=\"start\" x=\"8.5\" y=\"-104.3\" font-family=\"Helvetica,sans-Serif\" font-size=\"14.00\">value = [2, 0]</text>\n</g>\n<!-- 3&#45;&gt;4 -->\n<g id=\"edge4\" class=\"edge\">\n<title>3&#45;&gt;4</title>\n<path fill=\"none\" stroke=\"black\" d=\"M134.44,-192.88C119.54,-181.01 102.77,-167.65 88,-155.88\"/>\n<polygon fill=\"black\" stroke=\"black\" points=\"90.03,-153.01 80.03,-149.52 85.66,-158.49 90.03,-153.01\"/>\n</g>\n<!-- 5 -->\n<g id=\"node6\" class=\"node\">\n<title>5</title>\n<path fill=\"#ffffff\" stroke=\"black\" d=\"M229.5,-157C229.5,-157 126.5,-157 126.5,-157 120.5,-157 114.5,-151 114.5,-145 114.5,-145 114.5,-101 114.5,-101 114.5,-95 120.5,-89 126.5,-89 126.5,-89 229.5,-89 229.5,-89 235.5,-89 241.5,-95 241.5,-101 241.5,-101 241.5,-145 241.5,-145 241.5,-151 235.5,-157 229.5,-157\"/>\n<text text-anchor=\"start\" x=\"122.5\" y=\"-141.8\" font-family=\"Helvetica,sans-Serif\" font-size=\"14.00\">Temperature ≤ 1.0</text>\n<text text-anchor=\"start\" x=\"138\" y=\"-126.8\" font-family=\"Helvetica,sans-Serif\" font-size=\"14.00\">entropy = 1.0</text>\n<text text-anchor=\"start\" x=\"140.5\" y=\"-111.8\" font-family=\"Helvetica,sans-Serif\" font-size=\"14.00\">samples = 2</text>\n<text text-anchor=\"start\" x=\"138.5\" y=\"-96.8\" font-family=\"Helvetica,sans-Serif\" font-size=\"14.00\">value = [1, 1]</text>\n</g>\n<!-- 3&#45;&gt;5 -->\n<g id=\"edge5\" class=\"edge\">\n<title>3&#45;&gt;5</title>\n<path fill=\"none\" stroke=\"black\" d=\"M176.65,-192.88C176.81,-184.78 176.98,-175.98 177.15,-167.47\"/>\n<polygon fill=\"black\" stroke=\"black\" points=\"180.65,-167.37 177.35,-157.3 173.65,-167.23 180.65,-167.37\"/>\n</g>\n<!-- 6 -->\n<g id=\"node7\" class=\"node\">\n<title>6</title>\n<path fill=\"#e58139\" stroke=\"black\" d=\"M163,-53C163,-53 91,-53 91,-53 85,-53 79,-47 79,-41 79,-41 79,-12 79,-12 79,-6 85,0 91,0 91,0 163,0 163,0 169,0 175,-6 175,-12 175,-12 175,-41 175,-41 175,-47 169,-53 163,-53\"/>\n<text text-anchor=\"start\" x=\"87\" y=\"-37.8\" font-family=\"Helvetica,sans-Serif\" font-size=\"14.00\">entropy = 0.0</text>\n<text text-anchor=\"start\" x=\"89.5\" y=\"-22.8\" font-family=\"Helvetica,sans-Serif\" font-size=\"14.00\">samples = 1</text>\n<text text-anchor=\"start\" x=\"87.5\" y=\"-7.8\" font-family=\"Helvetica,sans-Serif\" font-size=\"14.00\">value = [1, 0]</text>\n</g>\n<!-- 5&#45;&gt;6 -->\n<g id=\"edge6\" class=\"edge\">\n<title>5&#45;&gt;6</title>\n<path fill=\"none\" stroke=\"black\" d=\"M160.16,-88.95C155.47,-80.26 150.4,-70.86 145.67,-62.09\"/>\n<polygon fill=\"black\" stroke=\"black\" points=\"148.72,-60.37 140.89,-53.24 142.56,-63.7 148.72,-60.37\"/>\n</g>\n<!-- 7 -->\n<g id=\"node8\" class=\"node\">\n<title>7</title>\n<path fill=\"#399de5\" stroke=\"black\" d=\"M277,-53C277,-53 205,-53 205,-53 199,-53 193,-47 193,-41 193,-41 193,-12 193,-12 193,-6 199,0 205,0 205,0 277,0 277,0 283,0 289,-6 289,-12 289,-12 289,-41 289,-41 289,-47 283,-53 277,-53\"/>\n<text text-anchor=\"start\" x=\"201\" y=\"-37.8\" font-family=\"Helvetica,sans-Serif\" font-size=\"14.00\">entropy = 0.0</text>\n<text text-anchor=\"start\" x=\"203.5\" y=\"-22.8\" font-family=\"Helvetica,sans-Serif\" font-size=\"14.00\">samples = 1</text>\n<text text-anchor=\"start\" x=\"201.5\" y=\"-7.8\" font-family=\"Helvetica,sans-Serif\" font-size=\"14.00\">value = [0, 1]</text>\n</g>\n<!-- 5&#45;&gt;7 -->\n<g id=\"edge7\" class=\"edge\">\n<title>5&#45;&gt;7</title>\n<path fill=\"none\" stroke=\"black\" d=\"M200.03,-88.95C205.89,-80.17 212.22,-70.66 218.12,-61.82\"/>\n<polygon fill=\"black\" stroke=\"black\" points=\"221.21,-63.5 223.84,-53.24 215.38,-59.62 221.21,-63.5\"/>\n</g>\n<!-- 9 -->\n<g id=\"node10\" class=\"node\">\n<title>9</title>\n<path fill=\"#399de5\" stroke=\"black\" d=\"M347,-149.5C347,-149.5 275,-149.5 275,-149.5 269,-149.5 263,-143.5 263,-137.5 263,-137.5 263,-108.5 263,-108.5 263,-102.5 269,-96.5 275,-96.5 275,-96.5 347,-96.5 347,-96.5 353,-96.5 359,-102.5 359,-108.5 359,-108.5 359,-137.5 359,-137.5 359,-143.5 353,-149.5 347,-149.5\"/>\n<text text-anchor=\"start\" x=\"271\" y=\"-134.3\" font-family=\"Helvetica,sans-Serif\" font-size=\"14.00\">entropy = 0.0</text>\n<text text-anchor=\"start\" x=\"273.5\" y=\"-119.3\" font-family=\"Helvetica,sans-Serif\" font-size=\"14.00\">samples = 2</text>\n<text text-anchor=\"start\" x=\"271.5\" y=\"-104.3\" font-family=\"Helvetica,sans-Serif\" font-size=\"14.00\">value = [0, 2]</text>\n</g>\n<!-- 8&#45;&gt;9 -->\n<g id=\"edge9\" class=\"edge\">\n<title>8&#45;&gt;9</title>\n<path fill=\"none\" stroke=\"black\" d=\"M312.35,-192.88C312.14,-182.22 311.91,-170.35 311.7,-159.52\"/>\n<polygon fill=\"black\" stroke=\"black\" points=\"315.2,-159.45 311.5,-149.52 308.2,-159.59 315.2,-159.45\"/>\n</g>\n<!-- 10 -->\n<g id=\"node11\" class=\"node\">\n<title>10</title>\n<path fill=\"#ffffff\" stroke=\"black\" d=\"M463,-157C463,-157 389,-157 389,-157 383,-157 377,-151 377,-145 377,-145 377,-101 377,-101 377,-95 383,-89 389,-89 389,-89 463,-89 463,-89 469,-89 475,-95 475,-101 475,-101 475,-145 475,-145 475,-151 469,-157 463,-157\"/>\n<text text-anchor=\"start\" x=\"385\" y=\"-141.8\" font-family=\"Helvetica,sans-Serif\" font-size=\"14.00\">Outlook ≤ 1.5</text>\n<text text-anchor=\"start\" x=\"386\" y=\"-126.8\" font-family=\"Helvetica,sans-Serif\" font-size=\"14.00\">entropy = 1.0</text>\n<text text-anchor=\"start\" x=\"388.5\" y=\"-111.8\" font-family=\"Helvetica,sans-Serif\" font-size=\"14.00\">samples = 2</text>\n<text text-anchor=\"start\" x=\"386.5\" y=\"-96.8\" font-family=\"Helvetica,sans-Serif\" font-size=\"14.00\">value = [1, 1]</text>\n</g>\n<!-- 8&#45;&gt;10 -->\n<g id=\"edge10\" class=\"edge\">\n<title>8&#45;&gt;10</title>\n<path fill=\"none\" stroke=\"black\" d=\"M349.69,-192.88C359.85,-183.71 371,-173.65 381.55,-164.12\"/>\n<polygon fill=\"black\" stroke=\"black\" points=\"384.03,-166.6 389.11,-157.3 379.34,-161.4 384.03,-166.6\"/>\n</g>\n<!-- 11 -->\n<g id=\"node12\" class=\"node\">\n<title>11</title>\n<path fill=\"#399de5\" stroke=\"black\" d=\"M399,-53C399,-53 327,-53 327,-53 321,-53 315,-47 315,-41 315,-41 315,-12 315,-12 315,-6 321,0 327,0 327,0 399,0 399,0 405,0 411,-6 411,-12 411,-12 411,-41 411,-41 411,-47 405,-53 399,-53\"/>\n<text text-anchor=\"start\" x=\"323\" y=\"-37.8\" font-family=\"Helvetica,sans-Serif\" font-size=\"14.00\">entropy = 0.0</text>\n<text text-anchor=\"start\" x=\"325.5\" y=\"-22.8\" font-family=\"Helvetica,sans-Serif\" font-size=\"14.00\">samples = 1</text>\n<text text-anchor=\"start\" x=\"323.5\" y=\"-7.8\" font-family=\"Helvetica,sans-Serif\" font-size=\"14.00\">value = [0, 1]</text>\n</g>\n<!-- 10&#45;&gt;11 -->\n<g id=\"edge11\" class=\"edge\">\n<title>10&#45;&gt;11</title>\n<path fill=\"none\" stroke=\"black\" d=\"M403.97,-88.95C398.11,-80.17 391.78,-70.66 385.88,-61.82\"/>\n<polygon fill=\"black\" stroke=\"black\" points=\"388.62,-59.62 380.16,-53.24 382.79,-63.5 388.62,-59.62\"/>\n</g>\n<!-- 12 -->\n<g id=\"node13\" class=\"node\">\n<title>12</title>\n<path fill=\"#e58139\" stroke=\"black\" d=\"M513,-53C513,-53 441,-53 441,-53 435,-53 429,-47 429,-41 429,-41 429,-12 429,-12 429,-6 435,0 441,0 441,0 513,0 513,0 519,0 525,-6 525,-12 525,-12 525,-41 525,-41 525,-47 519,-53 513,-53\"/>\n<text text-anchor=\"start\" x=\"437\" y=\"-37.8\" font-family=\"Helvetica,sans-Serif\" font-size=\"14.00\">entropy = 0.0</text>\n<text text-anchor=\"start\" x=\"439.5\" y=\"-22.8\" font-family=\"Helvetica,sans-Serif\" font-size=\"14.00\">samples = 1</text>\n<text text-anchor=\"start\" x=\"437.5\" y=\"-7.8\" font-family=\"Helvetica,sans-Serif\" font-size=\"14.00\">value = [1, 0]</text>\n</g>\n<!-- 10&#45;&gt;12 -->\n<g id=\"edge12\" class=\"edge\">\n<title>10&#45;&gt;12</title>\n<path fill=\"none\" stroke=\"black\" d=\"M443.84,-88.95C448.53,-80.26 453.6,-70.86 458.33,-62.09\"/>\n<polygon fill=\"black\" stroke=\"black\" points=\"461.44,-63.7 463.11,-53.24 455.28,-60.37 461.44,-63.7\"/>\n</g>\n</g>\n</svg>\n",
            "text/plain": [
              "<graphviz.sources.Source at 0x7e7835765060>"
            ]
          },
          "metadata": {},
          "execution_count": 29
        }
      ]
    },
    {
      "cell_type": "code",
      "source": [
        "import numpy as np\n",
        "import pandas as pd\n",
        "from sklearn.tree import DecisionTreeClassifier\n",
        "from sklearn.model_selection import train_test_split\n",
        "from sklearn.metrics import accuracy_score, confusion_matrix\n",
        "df = pd.read_csv('/content/iris.csv')\n",
        "df.Species.nunique()\n",
        "X = df.drop('Species', axis=1) # Features\n",
        "y = df['Species'] #targets\n",
        "X_train, X_test, y_train, y_test = train_test_split(X, y,\n",
        "test_size=0.3, random_state=42)\n",
        "dtclassifier = DecisionTreeClassifier()\n",
        "dtclassifier.fit(X_train, y_train)\n",
        "\n",
        "y_pred = dtclassifier.predict(X_test)\n",
        "accuracy = accuracy_score(y_test, y_pred)\n",
        "confusion_matrix = confusion_matrix(y_test, y_pred)\n",
        "# Print the results\n",
        "print(\"Accuracy:\", accuracy)\n",
        "print(\"Confusion Matrix:\\n\", confusion_matrix)\n"
      ],
      "metadata": {
        "colab": {
          "base_uri": "https://localhost:8080/"
        },
        "id": "4fCWuvrGqP3O",
        "outputId": "62d11ddf-d535-4c7a-8deb-fbb23ce0d8e8"
      },
      "execution_count": 31,
      "outputs": [
        {
          "output_type": "stream",
          "name": "stdout",
          "text": [
            "Accuracy: 1.0\n",
            "Confusion Matrix:\n",
            " [[19  0  0]\n",
            " [ 0 13  0]\n",
            " [ 0  0 13]]\n"
          ]
        }
      ]
    }
  ]
}