{
  "nbformat": 4,
  "nbformat_minor": 0,
  "metadata": {
    "colab": {
      "provenance": [],
      "authorship_tag": "ABX9TyOOIeGvn1eMb3++Vboadcwa",
      "include_colab_link": true
    },
    "kernelspec": {
      "name": "python3",
      "display_name": "Python 3"
    },
    "language_info": {
      "name": "python"
    }
  },
  "cells": [
    {
      "cell_type": "markdown",
      "metadata": {
        "id": "view-in-github",
        "colab_type": "text"
      },
      "source": [
        "<a href=\"https://colab.research.google.com/github/mohanasamanya/MachineLearning/blob/main/Untitled10.ipynb\" target=\"_parent\"><img src=\"https://colab.research.google.com/assets/colab-badge.svg\" alt=\"Open In Colab\"/></a>"
      ]
    },
    {
      "cell_type": "code",
      "execution_count": 1,
      "metadata": {
        "colab": {
          "base_uri": "https://localhost:8080/"
        },
        "id": "ifvdedB0XJae",
        "outputId": "eb0aebc3-b338-456e-92fc-27ca83594470"
      },
      "outputs": [
        {
          "output_type": "stream",
          "name": "stdout",
          "text": [
            "Missing Values Percentage (Diabetes):\n",
            "Pregnancies                 0.0\n",
            "Glucose                     0.0\n",
            "BloodPressure               0.0\n",
            "SkinThickness               0.0\n",
            "Insulin                     0.0\n",
            "BMI                         0.0\n",
            "DiabetesPedigreeFunction    0.0\n",
            "Age                         0.0\n",
            "Outcome                     0.0\n",
            "dtype: float64\n",
            "Accuracy after Missing Value Filter (Diabetes): 0.7359\n",
            "Accuracy after Correlation Filter (Diabetes): 0.7359\n",
            "Accuracy after Low Variance Filter (Diabetes): 0.7359\n"
          ]
        }
      ],
      "source": [
        "import pandas as pd\n",
        "from sklearn.model_selection import train_test_split\n",
        "from sklearn.linear_model import LogisticRegression\n",
        "from sklearn.metrics import accuracy_score\n",
        "\n",
        "diabetes_dataset = pd.read_csv('/content/diabetes.csv')\n",
        "missing_values_percentage = diabetes_dataset.isnull().mean() * 100\n",
        "print(f'Missing Values Percentage (Diabetes):\\n{missing_values_percentage}')\n",
        "cleaned_diabetes_data = diabetes_dataset.loc[:,missing_values_percentage < 0.3]\n",
        "X_features = cleaned_diabetes_data.drop(columns=['Outcome'])\n",
        "y_target = cleaned_diabetes_data['Outcome']\n",
        "X_train, X_test, y_train, y_test = train_test_split(X_features,y_target, test_size=0.3, random_state=42)\n",
        "diabetes_model = LogisticRegression(max_iter=200)\n",
        "diabetes_model.fit(X_train, y_train)\n",
        "y_pred = diabetes_model.predict(X_test)\n",
        "model_accuracy = accuracy_score(y_test, y_pred)\n",
        "print(f'Accuracy after Missing Value Filter (Diabetes): {model_accuracy:.4f}')\n",
        "\n",
        "correlation_matrix = cleaned_diabetes_data.corr()\n",
        "highly_correlated_features = correlation_matrix[correlation_matrix > 0.8]\n",
        "\n",
        "import numpy as np\n",
        "\n",
        "correlated_pairs = []\n",
        "for col in highly_correlated_features.columns:\n",
        "  for index in highly_correlated_features.index:\n",
        "      if highly_correlated_features.loc[index,col] > 0.8 and col != index and (col, index) not in correlated_pairs and (index, col) not in correlated_pairs:\n",
        "        correlated_pairs.append((col,index))\n",
        "features_to_remove = [pair[1] for pair in correlated_pairs] #Only remove second feature from each pair for simplicity\n",
        "X_features_filtered = X_features.drop(columns=features_to_remove)\n",
        "\n",
        "X_train_filtered, X_test_filtered, y_train_filtered, y_test_filtered = train_test_split(\n",
        "    X_features_filtered, y_target, test_size=0.3, random_state=42\n",
        ")\n",
        "diabetes_model_filtered = LogisticRegression(max_iter=200)\n",
        "diabetes_model_filtered.fit(X_train_filtered, y_train_filtered)\n",
        "y_pred_filtered = diabetes_model_filtered.predict(X_test_filtered)\n",
        "model_accuracy_filtered = accuracy_score(y_test_filtered, y_pred_filtered)\n",
        "print(f'Accuracy after Correlation Filter (Diabetes): {model_accuracy_filtered:.4f}')\n",
        "\n",
        "\n",
        "\n",
        "from sklearn.feature_selection import VarianceThreshold\n",
        "\n",
        "selector = VarianceThreshold(threshold=0.1)\n",
        "X_features_filtered = selector.fit_transform(X_features)\n",
        "\n",
        "selected_feature_indices = selector.get_support(indices=True)\n",
        "selected_features = X_features.columns[selected_feature_indices]\n",
        "\n",
        "X_features_filtered = pd.DataFrame(X_features_filtered, columns=selected_features, index=X_features.index)\n",
        "\n",
        "X_train_filtered, X_test_filtered, y_train_filtered, y_test_filtered = train_test_split(\n",
        "    X_features_filtered, y_target, test_size=0.3, random_state=42\n",
        ")\n",
        "\n",
        "diabetes_model_filtered = LogisticRegression(max_iter=200)\n",
        "diabetes_model_filtered.fit(X_train_filtered, y_train_filtered)\n",
        "\n",
        "y_pred_filtered = diabetes_model_filtered.predict(X_test_filtered)\n",
        "model_accuracy_filtered = accuracy_score(y_test_filtered, y_pred_filtered)\n",
        "print(f'Accuracy after Low Variance Filter (Diabetes): {model_accuracy_filtered:.4f}')"
      ]
    },
    {
      "cell_type": "code",
      "source": [
        "from sklearn.feature_selection import SequentialFeatureSelector\n",
        "from sklearn.linear_model import LogisticRegression\n",
        "from sklearn.model_selection import train_test_split\n",
        "from sklearn.metrics import accuracy_score\n",
        "\n",
        "\n",
        "model = LogisticRegression(max_iter=200)\n",
        "\n",
        "selector = SequentialFeatureSelector(\n",
        "    model,\n",
        "    n_features_to_select='auto',\n",
        "    direction='forward',\n",
        "    scoring='accuracy',\n",
        "    cv=5\n",
        ")\n",
        "\n",
        "selector.fit(X_train, y_train)\n",
        "\n",
        "selected_features = X_train.columns[selector.get_support()]\n",
        "\n",
        "\n",
        "X_train_selected = selector.transform(X_train)\n",
        "X_test_selected = selector.transform(X_test)\n",
        "model.fit(X_train_selected, y_train)\n",
        "\n",
        "\n",
        "y_pred = model.predict(X_test_selected)\n",
        "accuracy = accuracy_score(y_test, y_pred)\n",
        "\n",
        "print(f\"Optimal number of features: {len(selected_features)}\")\n",
        "print(f\"Selected features: {selected_features}\")\n",
        "print(f\"Accuracy with selected features: {accuracy:.4f}\")"
      ],
      "metadata": {
        "id": "uGH5aLGDL-oO",
        "colab": {
          "base_uri": "https://localhost:8080/"
        },
        "outputId": "5ce961ba-79be-404f-829e-0c3568650d21"
      },
      "execution_count": 2,
      "outputs": [
        {
          "output_type": "stream",
          "name": "stdout",
          "text": [
            "Optimal number of features: 4\n",
            "Selected features: Index(['Glucose', 'BMI', 'DiabetesPedigreeFunction', 'Age'], dtype='object')\n",
            "Accuracy with selected features: 0.7359\n"
          ]
        }
      ]
    },
    {
      "cell_type": "code",
      "source": [],
      "metadata": {
        "id": "T5RnWFp5RhBx"
      },
      "execution_count": null,
      "outputs": []
    },
    {
      "source": [
        "from sklearn.feature_selection import SequentialFeatureSelector\n",
        "from sklearn.tree import DecisionTreeClassifier\n",
        "from sklearn.model_selection import train_test_split\n",
        "from sklearn.metrics import accuracy_score\n",
        "\n",
        "model = DecisionTreeClassifier()\n",
        "\n",
        "selector = SequentialFeatureSelector(\n",
        "    model,\n",
        "    n_features_to_select='auto',\n",
        "    direction='backward',\n",
        "    scoring='accuracy',\n",
        "    cv=5\n",
        ")\n",
        "\n",
        "selector.fit(X_train, y_train)\n",
        "\n",
        "\n",
        "selected_features = X_train.columns[selector.get_support()]\n",
        "\n",
        "\n",
        "X_train_selected = selector.transform(X_train)\n",
        "X_test_selected = selector.transform(X_test)\n",
        "model.fit(X_train_selected, y_train)\n",
        "\n",
        "y_pred = model.predict(X_test_selected)\n",
        "accuracy = accuracy_score(y_test, y_pred)\n",
        "\n",
        "print(f\"Optimal number of features: {len(selected_features)}\")\n",
        "print(f\"Selected features: {selected_features}\")\n",
        "print(f\"Accuracy with selected features: {accuracy:.4f}\")"
      ],
      "cell_type": "code",
      "metadata": {
        "colab": {
          "base_uri": "https://localhost:8080/"
        },
        "id": "Gl7YxtObRjhF",
        "outputId": "8ac80433-6bab-421e-a8a6-653c3629d2f4"
      },
      "execution_count": 3,
      "outputs": [
        {
          "output_type": "stream",
          "name": "stdout",
          "text": [
            "Optimal number of features: 4\n",
            "Selected features: Index(['Pregnancies', 'Glucose', 'BMI', 'Age'], dtype='object')\n",
            "Accuracy with selected features: 0.6710\n"
          ]
        }
      ]
    },
    {
      "cell_type": "code",
      "source": [
        "from sklearn.ensemble import RandomForestClassifier\n",
        "from sklearn.model_selection import train_test_split\n",
        "from sklearn.metrics import accuracy_score\n",
        "\n",
        "\n",
        "rf_model = RandomForestClassifier(random_state=42)\n",
        "rf_model.fit(X_train, y_train)\n",
        "\n",
        "feature_importances = rf_model.feature_importances_\n",
        "\n",
        "\n",
        "feature_importance_df = pd.DataFrame({'Feature': X_train.columns, 'Importance': feature_importances})\n",
        "feature_importance_df = feature_importance_df.sort_values(by='Importance', ascending=False)\n",
        "\n",
        "top_5_features = feature_importance_df['Feature'][:5].tolist()\n",
        "X_train_reduced = X_train[top_5_features]\n",
        "X_test_reduced = X_test[top_5_features]\n",
        "\n",
        "reduced_model = LogisticRegression(max_iter=200)\n",
        "reduced_model.fit(X_train_reduced, y_train)\n",
        "\n",
        "y_pred_reduced = reduced_model.predict(X_test_reduced)\n",
        "accuracy_reduced = accuracy_score(y_test, y_pred_reduced)\n",
        "\n",
        "print(f\"Top 5 features: {top_5_features}\")\n",
        "print(f\"Accuracy with reduced features: {accuracy_reduced:.4f}\")"
      ],
      "metadata": {
        "id": "C80Wdy_uR9Ei",
        "colab": {
          "base_uri": "https://localhost:8080/"
        },
        "outputId": "3eb164d7-70fb-46a9-c972-67137faf6415"
      },
      "execution_count": 4,
      "outputs": [
        {
          "output_type": "stream",
          "name": "stdout",
          "text": [
            "Top 5 features: ['Glucose', 'BMI', 'Age', 'DiabetesPedigreeFunction', 'BloodPressure']\n",
            "Accuracy with reduced features: 0.7273\n"
          ]
        }
      ]
    },
    {
      "cell_type": "code",
      "source": [],
      "metadata": {
        "id": "DS5QVM9uT7Ai"
      },
      "execution_count": null,
      "outputs": []
    }
  ]
}