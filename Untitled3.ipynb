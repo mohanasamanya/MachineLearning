{
  "nbformat": 4,
  "nbformat_minor": 0,
  "metadata": {
    "colab": {
      "provenance": [],
      "authorship_tag": "ABX9TyMqHmjdxf2wcXiw3adG2Jv3",
      "include_colab_link": true
    },
    "kernelspec": {
      "name": "python3",
      "display_name": "Python 3"
    },
    "language_info": {
      "name": "python"
    }
  },
  "cells": [
    {
      "cell_type": "markdown",
      "metadata": {
        "id": "view-in-github",
        "colab_type": "text"
      },
      "source": [
        "<a href=\"https://colab.research.google.com/github/mohanasamanya/MachineLearning/blob/main/Untitled3.ipynb\" target=\"_parent\"><img src=\"https://colab.research.google.com/assets/colab-badge.svg\" alt=\"Open In Colab\"/></a>"
      ]
    },
    {
      "cell_type": "code",
      "execution_count": 2,
      "metadata": {
        "colab": {
          "base_uri": "https://localhost:8080/"
        },
        "id": "7HFb9krOKvoW",
        "outputId": "d7788436-b164-4c64-baf9-378460c94d9e"
      },
      "outputs": [
        {
          "output_type": "stream",
          "name": "stdout",
          "text": [
            "R&D Spend vs Profit: R-squared = 0.9464587607787219 MSE = 68473440.71905932\n",
            "Administration vs Profit: R-squared = -0.6308825840983834 MSE = 2085722025.9785638\n",
            "Marketing Spend vs Profit: R-squared = 0.49039262125463223 MSE = 651732592.4097881\n",
            "Multiple Regression: R-squared = 0.9347068473282423 MSE = 83502864.03257766\n"
          ]
        }
      ],
      "source": [
        "import pandas as pd\n",
        "from sklearn.linear_model import LinearRegression\n",
        "from sklearn.model_selection import train_test_split\n",
        "from sklearn.metrics import mean_squared_error, r2_score\n",
        "\n",
        "# Load the dataset\n",
        "startup_data = pd.read_csv(\"/content/50_Startups (1).csv\")\n",
        "\n",
        "# Define the independent and dependent variables\n",
        "X = startup_data[['R&D Spend', 'Administration', 'Marketing Spend', 'State']]\n",
        "y = startup_data['Profit']\n",
        "\n",
        "# Split the data into training and testing sets\n",
        "X_train, X_test, y_train, y_test = train_test_split(X, y, test_size=0.2, random_state=0)\n",
        "\n",
        "# Single Regression Analysis\n",
        "\n",
        "# R&D Spend vs Profit\n",
        "model_rd = LinearRegression()\n",
        "model_rd.fit(X_train[['R&D Spend']], y_train)\n",
        "y_pred_rd = model_rd.predict(X_test[['R&D Spend']])\n",
        "mse_rd = mean_squared_error(y_test, y_pred_rd)\n",
        "r2_rd = r2_score(y_test, y_pred_rd)\n",
        "print(\"R&D Spend vs Profit: R-squared =\", r2_rd, \"MSE =\", mse_rd)\n",
        "\n",
        "# Administration vs Profit\n",
        "model_admin = LinearRegression()\n",
        "model_admin.fit(X_train[['Administration']], y_train)\n",
        "y_pred_admin = model_admin.predict(X_test[['Administration']])\n",
        "mse_admin = mean_squared_error(y_test, y_pred_admin)\n",
        "r2_admin = r2_score(y_test, y_pred_admin)\n",
        "print(\"Administration vs Profit: R-squared =\", r2_admin, \"MSE =\", mse_admin)\n",
        "\n",
        "# Marketing Spend vs Profit\n",
        "model_market = LinearRegression()\n",
        "model_market.fit(X_train[['Marketing Spend']], y_train)\n",
        "y_pred_market = model_market.predict(X_test[['Marketing Spend']])\n",
        "mse_market = mean_squared_error(y_test, y_pred_market)\n",
        "r2_market = r2_score(y_test, y_pred_market)\n",
        "print(\"Marketing Spend vs Profit: R-squared =\", r2_market, \"MSE =\", mse_market)\n",
        "\n",
        "# Convert 'State' to numerical values using one-hot encoding\n",
        "X_train = pd.get_dummies(X_train, columns=['State'], drop_first=True)\n",
        "X_test = pd.get_dummies(X_test, columns=['State'], drop_first=True)\n",
        "\n",
        "# Multiple Regression Analysis\n",
        "model_multiple = LinearRegression()\n",
        "model_multiple.fit(X_train, y_train)\n",
        "y_pred_multiple = model_multiple.predict(X_test)\n",
        "mse_multiple = mean_squared_error(y_test, y_pred_multiple)\n",
        "r2_multiple = r2_score(y_test, y_pred_multiple)\n",
        "print(\"Multiple Regression: R-squared =\", r2_multiple, \"MSE =\", mse_multiple)\n",
        "\n",
        "#The State vs Profit section has been removed since it was causing the error\n",
        "#Instead, one-hot encoding was used for the 'State' column before doing multiple regression analysis."
      ]
    },
    {
      "cell_type": "code",
      "source": [
        "import pandas as pd\n",
        "from sklearn.linear_model import LinearRegression\n",
        "from sklearn.model_selection import train_test_split\n",
        "from sklearn.metrics import mean_squared_error, r2_score\n",
        "\n",
        "# Load the dataset\n",
        "corolla_data = pd.read_csv(\"ToyotaCorolla.csv\")\n",
        "\n",
        "# Define the independent and dependent variables\n",
        "X = corolla_data[['Age_08_04', 'KM', 'HP', 'cc', 'Doors', 'Gears', 'Quarterly_Tax', 'Weight']]\n",
        "y = corolla_data['Price']\n",
        "\n",
        "# Split the data into training and testing sets\n",
        "X_train, X_test, y_train, y_test = train_test_split(X, y, test_size=0.2, random_state=0)\n",
        "\n",
        "# Single Regression Analysis\n",
        "\n",
        "# Age_08_04 vs Price\n",
        "model_age = LinearRegression()\n",
        "model_age.fit(X_train[['Age_08_04']], y_train)\n",
        "y_pred_age = model_age.predict(X_test[['Age_08_04']])\n",
        "mse_age = mean_squared_error(y_test, y_pred_age)\n",
        "r2_age = r2_score(y_test, y_pred_age)\n",
        "print(\"Age_08_04 vs Price: R-squared =\", r2_age, \"MSE =\", mse_age)\n",
        "\n",
        "# KM vs Price\n",
        "model_km = LinearRegression()\n",
        "model_km.fit(X_train[['KM']], y_train)\n",
        "y_pred_km = model_km.predict(X_test[['KM']])\n",
        "mse_km = mean_squared_error(y_test, y_pred_km)\n",
        "r2_km = r2_score(y_test, y_pred_km)\n",
        "print(\"KM vs Price: R-squared =\", r2_km, \"MSE =\", mse_km)\n",
        "\n",
        "# HP vs Price\n",
        "model_hp = LinearRegression()\n",
        "model_hp.fit(X_train[['HP']], y_train)\n",
        "y_pred_hp = model_hp.predict(X_test[['HP']])\n",
        "mse_hp = mean_squared_error(y_test, y_pred_hp)\n",
        "r2_hp = r2_score(y_test, y_pred_hp)\n",
        "print(\"HP vs Price: R-squared =\", r2_hp, \"MSE =\", mse_hp)\n",
        "\n",
        "# cc vs Price\n",
        "model_cc = LinearRegression()\n",
        "model_cc.fit(X_train[['cc']], y_train)\n",
        "y_pred_cc = model_cc.predict(X_test[['cc']])\n",
        "mse_cc = mean_squared_error(y_test, y_pred_cc)\n",
        "r2_cc = r2_score(y_test, y_pred_cc)\n",
        "print(\"cc vs Price: R-squared =\", r2_cc, \"MSE =\", mse_cc)\n",
        "\n",
        "# Doors vs Price\n",
        "model_doors = LinearRegression()\n",
        "model_doors.fit(X_train[['Doors']], y_train)\n",
        "y_pred_doors = model_doors.predict(X_test[['Doors']])\n",
        "mse_doors = mean_squared_error(y_test, y_pred_doors)\n",
        "r2_doors = r2_score(y_test, y_pred_doors)\n",
        "print(\"Doors vs Price: R-squared =\", r2_doors, \"MSE =\", mse_doors)\n",
        "\n",
        "# Gears vs Price\n",
        "model_gears = LinearRegression()\n",
        "model_gears.fit(X_train[['Gears']], y_train)\n",
        "y_pred_gears = model_gears.predict(X_test[['Gears']])\n",
        "mse_gears = mean_squared_error(y_test, y_pred_gears)\n",
        "r2_gears = r2_score(y_test, y_pred_gears)\n",
        "print(\"Gears vs Price: R-squared =\", r2_gears, \"MSE =\", mse_gears)\n",
        "\n",
        "# Quarterly_Tax vs Price\n",
        "model_tax = LinearRegression()\n",
        "model_tax.fit(X_train[['Quarterly_Tax']], y_train)\n",
        "y_pred_tax = model_tax.predict(X_test[['Quarterly_Tax']])\n",
        "mse_tax = mean_squared_error(y_test, y_pred_tax)\n",
        "r2_tax = r2_score(y_test, y_pred_tax)\n",
        "print(\"Quarterly_Tax vs Price: R-squared =\", r2_tax, \"MSE =\", mse_tax)\n",
        "\n",
        "# Weight vs Price\n",
        "model_weight = LinearRegression()\n",
        "model_weight.fit(X_train[['Weight']], y_train)\n",
        "y_pred_weight = model_weight.predict(X_test[['Weight']])\n",
        "mse_weight = mean_squared_error(y_test, y_pred_weight)\n",
        "r2_weight = r2_score(y_test, y_pred_weight)\n",
        "print(\"Weight vs Price: R-squared =\", r2_weight, \"MSE =\", mse_weight)\n",
        "\n",
        "# Multiple Regression Analysis\n",
        "model_multiple = LinearRegression()\n",
        "model_multiple.fit(X_train, y_train)\n",
        "y_pred_multiple = model_multiple.predict(X_test)\n",
        "mse_multiple = mean_squared_error(y_test, y_pred_multiple)\n",
        "r2_multiple = r2_score(y_test, y_pred_multiple)\n",
        "print(\"Multiple Regression: R-squared =\", r2_multiple, \"MSE =\", mse_multiple)"
      ],
      "metadata": {
        "colab": {
          "base_uri": "https://localhost:8080/"
        },
        "id": "k5RM5FZqLNQ-",
        "outputId": "21a5ae1a-0f9b-4151-d60e-16198a672133"
      },
      "execution_count": 4,
      "outputs": [
        {
          "output_type": "stream",
          "name": "stdout",
          "text": [
            "Age_08_04 vs Price: R-squared = 0.7365043780423168 MSE = 3278488.7560156537\n",
            "KM vs Price: R-squared = 0.32936505094481683 MSE = 8344234.046596987\n",
            "HP vs Price: R-squared = 0.14294819912993373 MSE = 10663686.446094852\n",
            "cc vs Price: R-squared = -0.40571021036349264 MSE = 17490253.10042245\n",
            "Doors vs Price: R-squared = 0.027946978069690598 MSE = 12094564.90765285\n",
            "Gears vs Price: R-squared = 0.002928934230584823 MSE = 12405846.646660976\n",
            "Quarterly_Tax vs Price: R-squared = 0.0016505495928405 MSE = 12421752.678152386\n",
            "Weight vs Price: R-squared = 0.2774483392348128 MSE = 8990196.792869445\n",
            "Multiple Regression: R-squared = 0.5995582859225217 MSE = 4982411.651809105\n"
          ]
        }
      ]
    }
  ]
}