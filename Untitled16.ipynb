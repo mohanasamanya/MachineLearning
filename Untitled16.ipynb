{
  "nbformat": 4,
  "nbformat_minor": 0,
  "metadata": {
    "colab": {
      "provenance": [],
      "authorship_tag": "ABX9TyPgdeE0VY4UvmjxP+6UvFwR",
      "include_colab_link": true
    },
    "kernelspec": {
      "name": "python3",
      "display_name": "Python 3"
    },
    "language_info": {
      "name": "python"
    }
  },
  "cells": [
    {
      "cell_type": "markdown",
      "metadata": {
        "id": "view-in-github",
        "colab_type": "text"
      },
      "source": [
        "<a href=\"https://colab.research.google.com/github/mohanasamanya/MachineLearning/blob/main/Untitled16.ipynb\" target=\"_parent\"><img src=\"https://colab.research.google.com/assets/colab-badge.svg\" alt=\"Open In Colab\"/></a>"
      ]
    },
    {
      "cell_type": "code",
      "execution_count": null,
      "metadata": {
        "colab": {
          "base_uri": "https://localhost:8080/"
        },
        "id": "cJ6Ik8oBiDbp",
        "outputId": "c7c7c70e-40bb-4456-d3b7-b73192cf9b93"
      },
      "outputs": [
        {
          "output_type": "stream",
          "name": "stdout",
          "text": [
            "x1    x2    w1   w2     t     O\n",
            "0     0     1     1     2     0\n",
            "0     1     1     1     2     0\n",
            "1     0     1     1     2     0\n",
            "1     1     1     1     2     1\n"
          ]
        }
      ],
      "source": [
        "#and\n",
        "from tabulate import tabulate\n",
        "\n",
        "x1 = [0, 0, 1, 1]\n",
        "x2 = [0, 1, 0, 1]\n",
        "w1 = [1, 1, 1, 1]\n",
        "w2 = [1, 1, 1, 1]\n",
        "t = 2\n",
        "\n",
        "print(\"x1    x2    w1   w2     t     O\")\n",
        "for i in range(len(x1)):\n",
        "    if ( x1[i]*w1[i] + x2[i]*w2[i] ) >= t:\n",
        "        print(x1[i],'   ',x2[i],'   ',w1[i],'   ',w2[i],'   ',t,'   ', 1)\n",
        "    else:\n",
        "        print(x1[i],'   ',x2[i],'   ',w1[i],'   ',w2[i],'   ',t,'   ', 0)"
      ]
    },
    {
      "cell_type": "code",
      "source": [
        "#or\n",
        "from tabulate import tabulate\n",
        "x1 = [0, 0, 1, 1]\n",
        "x2 = [0, 1, 0, 1]\n",
        "w1 = [1, 1, 1, 1]\n",
        "w2 = [1, 1, 1, 1]\n",
        "t = 1\n",
        "\n",
        "print(\"x1    x2    w1   w2     t     O\")\n",
        "for i in range(len(x1)):\n",
        "    if ( x1[i]*w1[i] + x2[i]*w2[i] ) >= t:\n",
        "        print(x1[i],'   ',x2[i],'   ',w1[i],'   ',w2[i],'   ',t,'   ', 1)\n",
        "    else:\n",
        "        print(x1[i],'   ',x2[i],'   ',w1[i],'   ',w2[i],'   ',t,'   ', 0)"
      ],
      "metadata": {
        "colab": {
          "base_uri": "https://localhost:8080/"
        },
        "id": "bn_BOcRRlKZ1",
        "outputId": "fcf2824f-27a0-4641-87f2-6c014c62702d"
      },
      "execution_count": null,
      "outputs": [
        {
          "output_type": "stream",
          "name": "stdout",
          "text": [
            "x1    x2    w1   w2     t     O\n",
            "0     0     1     1     1     0\n",
            "0     1     1     1     1     1\n",
            "1     0     1     1     1     1\n",
            "1     1     1     1     1     1\n"
          ]
        }
      ]
    },
    {
      "cell_type": "code",
      "source": [
        "#not\n",
        "from tabulate import tabulate\n",
        "x = [0, 1]\n",
        "w = [-1, -1]\n",
        "t = 0\n",
        "\n",
        "print(\"x      w     t     O\")\n",
        "for i in range(len(x)):\n",
        "    if ( x[i]*w[i]) >= t:\n",
        "        print(x[i],'   ',w[i],'   ',t,'   ', 1)\n",
        "    else:\n",
        "        print(x[i],'   ',w[i],'   ',t,'   ', 0)"
      ],
      "metadata": {
        "colab": {
          "base_uri": "https://localhost:8080/"
        },
        "id": "sErKIqr-lTVv",
        "outputId": "8e74f427-24fd-47f6-868b-abcc2a3891fc"
      },
      "execution_count": null,
      "outputs": [
        {
          "output_type": "stream",
          "name": "stdout",
          "text": [
            "x      w     t     O\n",
            "0     -1     0     1\n",
            "1     -1     0     0\n"
          ]
        }
      ]
    },
    {
      "cell_type": "code",
      "source": [
        "#nand\n",
        "from tabulate import tabulate\n",
        "x1 = [0, 0, 1, 1]\n",
        "x2 = [0, 1, 0, 1]\n",
        "w1 = [-1, -1, -1, -1]\n",
        "w2 = [-1, -1, -1, -1]\n",
        "t = -2\n",
        "\n",
        "print(\"x1    x2    w1     w2      t     O\")\n",
        "for i in range(len(x1)):\n",
        "    if ( x1[i]*w1[i] + x2[i]*w2[i] ) > t:\n",
        "        print(x1[i],'   ',x2[i],'   ',w1[i],'   ',w2[i],'   ',t,'   ', 1)\n",
        "    else:\n",
        "        print(x1[i],'   ',x2[i],'   ',w1[i],'   ',w2[i],'   ',t,'   ', 0)"
      ],
      "metadata": {
        "colab": {
          "base_uri": "https://localhost:8080/"
        },
        "id": "jvEDS2FnlgPK",
        "outputId": "51d77042-6c68-4da0-910b-a3d90cc26a06"
      },
      "execution_count": null,
      "outputs": [
        {
          "output_type": "stream",
          "name": "stdout",
          "text": [
            "x1    x2    w1     w2      t     O\n",
            "0     0     -1     -1     -2     1\n",
            "0     1     -1     -1     -2     1\n",
            "1     0     -1     -1     -2     1\n",
            "1     1     -1     -1     -2     0\n"
          ]
        }
      ]
    },
    {
      "cell_type": "code",
      "source": [
        "#exor\n",
        "from tabulate import tabulate\n",
        "x1 = [0, 0, 1, 1]\n",
        "x2 = [0, 1, 0, 1]\n",
        "w1 = [1, 1, 1, 1]\n",
        "w2 = [1, 1, 1, 1]\n",
        "w3 = [1, 1, 1, 1]\n",
        "w4 = [-1, -1, -1, -1]\n",
        "w5 = [-1, -1, -1, -1]\n",
        "w6 = [1, 1, 1, 1]\n",
        "t1 = [0.5,0.5,0.5,0.5]\n",
        "t2 = [-1.5,-1.5,-1.5,-1.5]\n",
        "t3 = [1.5,1.5,1.5,1.5]\n",
        "def XOR (a, b):\n",
        "    if a != b:\n",
        "        return 1\n",
        "    else:\n",
        "        return 0\n",
        "\n",
        "print('x1    x2    w1    w2    w3     w4    w5     w6    t1        t2      t3     O')\n",
        "for i in range(len(x1)):\n",
        "    print(x1[i],'   ',x2[i],'   ',w1[i],'   ',w2[i],'   ',w3[i],'   ',w4[i],'   ',w5[i],'   ',w6[i],'   ',t1[i],'   ',t2[i],'   ',t3[i],'   ',XOR(x1[i],x2[i]))"
      ],
      "metadata": {
        "colab": {
          "base_uri": "https://localhost:8080/"
        },
        "id": "7YpsLwFRluSC",
        "outputId": "69a0906b-3293-4909-c317-d7514245b581"
      },
      "execution_count": null,
      "outputs": [
        {
          "output_type": "stream",
          "name": "stdout",
          "text": [
            "x1    x2    w1    w2    w3     w4    w5     w6    t1        t2      t3     O\n",
            "0     0     1     1     1     -1     -1     1     0.5     -1.5     1.5     0\n",
            "0     1     1     1     1     -1     -1     1     0.5     -1.5     1.5     1\n",
            "1     0     1     1     1     -1     -1     1     0.5     -1.5     1.5     1\n",
            "1     1     1     1     1     -1     -1     1     0.5     -1.5     1.5     0\n"
          ]
        }
      ]
    },
    {
      "cell_type": "code",
      "source": [
        "#nor\n",
        "x1 = [0, 0, 1, 1]\n",
        "x2 = [0, 1, 0, 1]\n",
        "w1 = [1, 1, 1, 1]\n",
        "w2 = [1, 1, 1, 1]\n",
        "t = 0\n",
        "\n",
        "print(\"x1    x2    w1   w2     t     O\")\n",
        "for i in range(len(x1)):\n",
        "    if ( x1[i]*w1[i] + x2[i]*w2[i] ) <= t:\n",
        "        print(x1[i],'   ',x2[i],'   ',w1[i],'   ',w2[i],'   ',t,'   ', 1)\n",
        "    else:\n",
        "        print(x1[i],'   ',x2[i],'   ',w1[i],'   ',w2[i],'   ',t,'   ', 0)"
      ],
      "metadata": {
        "colab": {
          "base_uri": "https://localhost:8080/"
        },
        "id": "1NvgwcuYmE9M",
        "outputId": "ea7da235-2440-423f-b13e-49e783964887"
      },
      "execution_count": null,
      "outputs": [
        {
          "output_type": "stream",
          "name": "stdout",
          "text": [
            "x1    x2    w1   w2     t     O\n",
            "0     0     1     1     0     1\n",
            "0     1     1     1     0     0\n",
            "1     0     1     1     0     0\n",
            "1     1     1     1     0     0\n"
          ]
        }
      ]
    }
  ]
}