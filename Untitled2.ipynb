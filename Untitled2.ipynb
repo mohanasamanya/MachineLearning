{
  "nbformat": 4,
  "nbformat_minor": 0,
  "metadata": {
    "colab": {
      "provenance": [],
      "authorship_tag": "ABX9TyNW5CkvXUYrr2a40YJ9d9vm",
      "include_colab_link": true
    },
    "kernelspec": {
      "name": "python3",
      "display_name": "Python 3"
    },
    "language_info": {
      "name": "python"
    }
  },
  "cells": [
    {
      "cell_type": "markdown",
      "metadata": {
        "id": "view-in-github",
        "colab_type": "text"
      },
      "source": [
        "<a href=\"https://colab.research.google.com/github/mohanasamanya/MachineLearning/blob/main/Untitled2.ipynb\" target=\"_parent\"><img src=\"https://colab.research.google.com/assets/colab-badge.svg\" alt=\"Open In Colab\"/></a>"
      ]
    },
    {
      "cell_type": "code",
      "execution_count": null,
      "metadata": {
        "colab": {
          "base_uri": "https://localhost:8080/"
        },
        "id": "1NXJcoXn9gHb",
        "outputId": "6caa1f1d-da65-4bdf-8f9b-142416e6087c"
      },
      "outputs": [
        {
          "output_type": "stream",
          "name": "stdout",
          "text": [
            "Mean: 3.0\n",
            "Variance: 2.5\n"
          ]
        }
      ],
      "source": [
        "import numpy as np\n",
        "\n",
        "def calculate_mean_and_variance(data):\n",
        "  mean = np.mean(data)\n",
        "  variance = np.var(data, ddof=1)\n",
        "  return mean, variance\n",
        "\n",
        "data = np.array([1, 2, 3, 4, 5])\n",
        "mean, variance = calculate_mean_and_variance(data)\n",
        "print(\"Mean:\", mean)\n",
        "print(\"Variance:\", variance)"
      ]
    },
    {
      "cell_type": "code",
      "source": [
        "import numpy as np\n",
        "\n",
        "def computingcovariance(x, y):\n",
        "  if len(x) != len(y):\n",
        "    raise ValueError(\"Vectors must have the same length.\")\n",
        "\n",
        "  x_mean = np.mean(x)\n",
        "  y_mean = np.mean(y)\n",
        "\n",
        "  covariance = np.sum((x - x_mean) * (y - y_mean)) / (len(x) - 1)\n",
        "\n",
        "  return covariance\n",
        "\n",
        "x = np.array([1, 2, 3, 4, 5])\n",
        "y = np.array([2, 4, 6, 8, 10])\n",
        "\n",
        "covariance = computingcovariance(x, y)\n",
        "print(covariance)"
      ],
      "metadata": {
        "colab": {
          "base_uri": "https://localhost:8080/"
        },
        "id": "a769jdJq_vTa",
        "outputId": "3aed4ff4-0d67-4346-ad82-ddc84e32278e"
      },
      "execution_count": null,
      "outputs": [
        {
          "output_type": "stream",
          "name": "stdout",
          "text": [
            "5.0\n"
          ]
        }
      ]
    },
    {
      "cell_type": "code",
      "source": [
        "import numpy as np\n",
        "\n",
        "def compute_correlation(x, y):\n",
        "  covariance = np.cov(x, y)[0, 1]\n",
        "  variance_x = np.var(x)\n",
        "  variance_y = np.var(y)\n",
        "  correlation = covariance / np.sqrt(variance_x * variance_y)\n",
        "  return correlation\n",
        "\n",
        "x = np.array([1, 2, 3, 4, 5])\n",
        "y = np.array([2, 4, 6, 8, 10])\n",
        "\n",
        "correlation = compute_correlation(x, y)\n",
        "print(correlation)"
      ],
      "metadata": {
        "colab": {
          "base_uri": "https://localhost:8080/"
        },
        "id": "7FwyY0Yn_45c",
        "outputId": "c4e1f8f7-4b80-43d7-cccd-be6c72fb9b08"
      },
      "execution_count": null,
      "outputs": [
        {
          "output_type": "stream",
          "name": "stdout",
          "text": [
            "1.25\n"
          ]
        }
      ]
    },
    {
      "cell_type": "code",
      "source": [
        "import numpy as np\n",
        "\n",
        "M = 5\n",
        "N = 10\n",
        "X = np.random.randn(M, N)\n",
        "\n",
        "covariance_matrix = np.cov(X)\n",
        "correlation_matrix = np.corrcoef(X)\n",
        "\n",
        "print(covariance_matrix)\n",
        "print(correlation_matrix)"
      ],
      "metadata": {
        "id": "aZ58_faz_-FH",
        "outputId": "f5493753-1c54-4f4e-aedd-6a8014e420c7",
        "colab": {
          "base_uri": "https://localhost:8080/"
        }
      },
      "execution_count": null,
      "outputs": [
        {
          "output_type": "stream",
          "name": "stdout",
          "text": [
            "[[ 1.47553177  0.05819224  0.00779527  0.64499591 -0.2871251 ]\n",
            " [ 0.05819224  1.03327843 -0.12096706 -0.40953924 -0.32666229]\n",
            " [ 0.00779527 -0.12096706  0.37860243  0.26007855  0.11347243]\n",
            " [ 0.64499591 -0.40953924  0.26007855  1.1297622   0.45917384]\n",
            " [-0.2871251  -0.32666229  0.11347243  0.45917384  0.72976763]]\n",
            "[[ 1.          0.04712833  0.01042955  0.49956173 -0.27669709]\n",
            " [ 0.04712833  1.         -0.19340457 -0.37904722 -0.37618201]\n",
            " [ 0.01042955 -0.19340457  1.          0.39766679  0.215877  ]\n",
            " [ 0.49956173 -0.37904722  0.39766679  1.          0.5056981 ]\n",
            " [-0.27669709 -0.37618201  0.215877    0.5056981   1.        ]]\n"
          ]
        }
      ]
    }
  ]
}